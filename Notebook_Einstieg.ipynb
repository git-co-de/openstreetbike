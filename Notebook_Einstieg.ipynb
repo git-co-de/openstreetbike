{
 "cells": [
  {
   "cell_type": "code",
   "execution_count": 1,
   "id": "7d19a5e5-c5af-4257-b52a-2714ef02dbd4",
   "metadata": {},
   "outputs": [],
   "source": [
    "import requests\n",
    "import time\n",
    "import pandas as pd\n",
    "import numpy as np\n",
    "import sqlalchemy"
   ]
  },
  {
   "cell_type": "code",
   "execution_count": 2,
   "id": "663bd636-ba53-4d55-9441-ff392510c7c1",
   "metadata": {},
   "outputs": [],
   "source": [
    "# client-identifier ist Voraussetzung für die Nutzung der Daten\n",
    "client_header = \"testuser-exercise\"\n",
    "\n",
    "headers = {\n",
    "    \"Client-Identifier\": client_header\n",
    "}\n",
    "\n",
    "# BASE URL\n",
    "URL = \"https://gbfs.urbansharing.com/oslobysykkel.no/\"\n",
    "\n",
    "# endpoints\n",
    "# Auto-discovery file that links to all of the other files published by the system.\n",
    "auto = \"gbfs.json\"\n",
    "\n",
    "# Machine readable basic information about Oslo City Bike\n",
    "system = \"system_information.json\"\n",
    "\n",
    "# vehicly types available\n",
    "vehicles = \"vehicle_types.json\"\n",
    "\n",
    "# Information about all stations, including geolocation, addresses and descriptions\n",
    "stations = \"station_information.json\"\n",
    "\n",
    "# Bike and dock availability\n",
    "availability = \"station_status.json\"\n",
    "\n",
    "# pricing plans\n",
    "pricing = \"system_pricing_plans.json\"\n",
    "\n",
    "\n"
   ]
  },
  {
   "cell_type": "code",
   "execution_count": 3,
   "id": "e4061b15-281e-4a0b-bc25-ad4e409ab6f2",
   "metadata": {},
   "outputs": [
    {
     "name": "stdout",
     "output_type": "stream",
     "text": [
      "Systemname: {'nb': {'feeds': [{'name': 'system_information', 'url': 'https://gbfs.urbansharing.com/oslobysykkel.no/system_information.json'}, {'name': 'vehicle_types', 'url': 'https://gbfs.urbansharing.com/oslobysykkel.no/vehicle_types.json'}, {'name': 'system_pricing_plans', 'url': 'https://gbfs.urbansharing.com/oslobysykkel.no/system_pricing_plans.json'}, {'name': 'station_information', 'url': 'https://gbfs.urbansharing.com/oslobysykkel.no/station_information.json'}, {'name': 'station_status', 'url': 'https://gbfs.urbansharing.com/oslobysykkel.no/station_status.json'}]}}\n"
     ]
    }
   ],
   "source": [
    "# Überblick verschaffen\n",
    "response = requests.get(URL + auto, headers = headers)\n",
    "\n",
    "\n",
    "if response.status_code == 200:\n",
    "    data = response.json()\n",
    "    print(\"Systemname:\", data[\"data\"])\n",
    "\n",
    "else: \n",
    "    print(\"Fehler beim abrufen der Daten:\", response.status_code)"
   ]
  },
  {
   "cell_type": "code",
   "execution_count": 4,
   "id": "910b2e18-8c98-4075-8abe-8ce465e415b0",
   "metadata": {},
   "outputs": [],
   "source": [
    "system_info = requests.get(URL + system, headers = headers).json()\n",
    "vehicle_types = requests.get(URL + vehicles, headers = headers).json()\n",
    "station_status = requests.get(URL + availability, headers = headers).json()\n",
    "station_info = requests.get(URL + stations, headers = headers).json()\n",
    "# pricing_plans = requests.get(URL + pricing, headers = headers).json()\n",
    "\n",
    "\n",
    "df_system_info = pd.DataFrame(system_info[\"data\"]) # wird wahrscheinlich nicht gebraucht\n",
    "df_veh_types = pd.DataFrame(vehicle_types[\"data\"][\"vehicle_types\"])\n",
    "df_station_status = pd.DataFrame(station_status[\"data\"][\"stations\"])\n",
    "df_stations = pd.DataFrame(station_info[\"data\"][\"stations\"])\n",
    "# df_pricing = pd.DataFrame(pricing_plans[\"data\"][\"plans\"]) # in der Doku nur 2 Preisklassen für bike und ebike aber auf der Website gibt es fünf Tarife/Abos\n"
   ]
  },
  {
   "cell_type": "code",
   "execution_count": 5,
   "id": "63efc7bc-3180-460b-bf7d-6549edffc3d7",
   "metadata": {},
   "outputs": [
    {
     "name": "stdout",
     "output_type": "stream",
     "text": [
      "<class 'pandas.core.frame.DataFrame'>\n",
      "Index: 2 entries, android to ios\n",
      "Data columns (total 8 columns):\n",
      " #   Column        Non-Null Count  Dtype \n",
      "---  ------        --------------  ----- \n",
      " 0   system_id     2 non-null      object\n",
      " 1   language      2 non-null      object\n",
      " 2   name          2 non-null      object\n",
      " 3   operator      2 non-null      object\n",
      " 4   timezone      2 non-null      object\n",
      " 5   phone_number  2 non-null      object\n",
      " 6   email         2 non-null      object\n",
      " 7   rental_apps   2 non-null      object\n",
      "dtypes: object(8)\n",
      "memory usage: 144.0+ bytes\n"
     ]
    }
   ],
   "source": [
    "df_system_info.info()"
   ]
  },
  {
   "cell_type": "code",
   "execution_count": 6,
   "id": "a02fab33-3513-4734-b3c8-9bebf613f34b",
   "metadata": {},
   "outputs": [
    {
     "name": "stdout",
     "output_type": "stream",
     "text": [
      "<class 'pandas.core.frame.DataFrame'>\n",
      "RangeIndex: 2 entries, 0 to 1\n",
      "Data columns (total 6 columns):\n",
      " #   Column                   Non-Null Count  Dtype  \n",
      "---  ------                   --------------  -----  \n",
      " 0   vehicle_type_id          2 non-null      object \n",
      " 1   form_factor              2 non-null      object \n",
      " 2   default_pricing_plan_id  2 non-null      object \n",
      " 3   propulsion_type          2 non-null      object \n",
      " 4   name                     2 non-null      object \n",
      " 5   max_range_meters         1 non-null      float64\n",
      "dtypes: float64(1), object(5)\n",
      "memory usage: 228.0+ bytes\n"
     ]
    }
   ],
   "source": [
    "df_veh_types.info()"
   ]
  },
  {
   "cell_type": "code",
   "execution_count": 7,
   "id": "faaa846f-e9a5-4f50-baf8-0832a243e586",
   "metadata": {},
   "outputs": [
    {
     "data": {
      "text/html": [
       "<div>\n",
       "<style scoped>\n",
       "    .dataframe tbody tr th:only-of-type {\n",
       "        vertical-align: middle;\n",
       "    }\n",
       "\n",
       "    .dataframe tbody tr th {\n",
       "        vertical-align: top;\n",
       "    }\n",
       "\n",
       "    .dataframe thead th {\n",
       "        text-align: right;\n",
       "    }\n",
       "</style>\n",
       "<table border=\"1\" class=\"dataframe\">\n",
       "  <thead>\n",
       "    <tr style=\"text-align: right;\">\n",
       "      <th></th>\n",
       "      <th>vehicle_type_id</th>\n",
       "      <th>propulsion_type</th>\n",
       "      <th>name</th>\n",
       "      <th>max_range_meters</th>\n",
       "    </tr>\n",
       "  </thead>\n",
       "  <tbody>\n",
       "    <tr>\n",
       "      <th>0</th>\n",
       "      <td>bike</td>\n",
       "      <td>human</td>\n",
       "      <td>Traditional bike</td>\n",
       "      <td>NaN</td>\n",
       "    </tr>\n",
       "    <tr>\n",
       "      <th>1</th>\n",
       "      <td>ebike</td>\n",
       "      <td>electric_assist</td>\n",
       "      <td>Electric bike</td>\n",
       "      <td>7000.0</td>\n",
       "    </tr>\n",
       "  </tbody>\n",
       "</table>\n",
       "</div>"
      ],
      "text/plain": [
       "  vehicle_type_id  propulsion_type              name  max_range_meters\n",
       "0            bike            human  Traditional bike               NaN\n",
       "1           ebike  electric_assist     Electric bike            7000.0"
      ]
     },
     "execution_count": 7,
     "metadata": {},
     "output_type": "execute_result"
    }
   ],
   "source": [
    "df_veh_types = df_veh_types.drop(columns = [\"default_pricing_plan_id\", \"form_factor\"], axis = 1)\n",
    "df_veh_types"
   ]
  },
  {
   "cell_type": "code",
   "execution_count": 8,
   "id": "6d94cdad-da98-43d6-95a8-26ef2c389cbd",
   "metadata": {},
   "outputs": [
    {
     "name": "stdout",
     "output_type": "stream",
     "text": [
      "<class 'pandas.core.frame.DataFrame'>\n",
      "RangeIndex: 270 entries, 0 to 269\n",
      "Data columns (total 9 columns):\n",
      " #   Column                   Non-Null Count  Dtype \n",
      "---  ------                   --------------  ----- \n",
      " 0   station_id               270 non-null    object\n",
      " 1   is_installed             270 non-null    bool  \n",
      " 2   is_renting               270 non-null    bool  \n",
      " 3   is_returning             270 non-null    bool  \n",
      " 4   last_reported            270 non-null    int64 \n",
      " 5   num_vehicles_available   270 non-null    int64 \n",
      " 6   num_bikes_available      270 non-null    int64 \n",
      " 7   num_docks_available      270 non-null    int64 \n",
      " 8   vehicle_types_available  270 non-null    object\n",
      "dtypes: bool(3), int64(4), object(2)\n",
      "memory usage: 13.6+ KB\n"
     ]
    }
   ],
   "source": [
    "df_station_status.info()"
   ]
  },
  {
   "cell_type": "code",
   "execution_count": 9,
   "id": "86c498b6-54cd-42ef-bc8e-df6c23c447cd",
   "metadata": {},
   "outputs": [
    {
     "name": "stdout",
     "output_type": "stream",
     "text": [
      "<class 'pandas.core.frame.DataFrame'>\n",
      "RangeIndex: 270 entries, 0 to 269\n",
      "Data columns (total 10 columns):\n",
      " #   Column              Non-Null Count  Dtype  \n",
      "---  ------              --------------  -----  \n",
      " 0   station_id          270 non-null    object \n",
      " 1   name                270 non-null    object \n",
      " 2   address             270 non-null    object \n",
      " 3   cross_street        270 non-null    object \n",
      " 4   lat                 270 non-null    float64\n",
      " 5   lon                 270 non-null    float64\n",
      " 6   is_virtual_station  270 non-null    bool   \n",
      " 7   capacity            270 non-null    int64  \n",
      " 8   station_area        270 non-null    object \n",
      " 9   rental_uris         270 non-null    object \n",
      "dtypes: bool(1), float64(2), int64(1), object(6)\n",
      "memory usage: 19.4+ KB\n"
     ]
    }
   ],
   "source": [
    "df_stations.info()"
   ]
  },
  {
   "cell_type": "code",
   "execution_count": 12,
   "id": "ff171750-9786-4dff-89b6-6d5cd5dce822",
   "metadata": {},
   "outputs": [
    {
     "data": {
      "text/html": [
       "<div>\n",
       "<style scoped>\n",
       "    .dataframe tbody tr th:only-of-type {\n",
       "        vertical-align: middle;\n",
       "    }\n",
       "\n",
       "    .dataframe tbody tr th {\n",
       "        vertical-align: top;\n",
       "    }\n",
       "\n",
       "    .dataframe thead th {\n",
       "        text-align: right;\n",
       "    }\n",
       "</style>\n",
       "<table border=\"1\" class=\"dataframe\">\n",
       "  <thead>\n",
       "    <tr style=\"text-align: right;\">\n",
       "      <th></th>\n",
       "      <th>station_id</th>\n",
       "      <th>name</th>\n",
       "      <th>address</th>\n",
       "      <th>cross_street</th>\n",
       "      <th>lat</th>\n",
       "      <th>lon</th>\n",
       "      <th>is_virtual_station</th>\n",
       "      <th>capacity</th>\n",
       "      <th>station_area</th>\n",
       "      <th>rental_uris</th>\n",
       "    </tr>\n",
       "  </thead>\n",
       "  <tbody>\n",
       "    <tr>\n",
       "      <th>0</th>\n",
       "      <td>5431</td>\n",
       "      <td>NRK</td>\n",
       "      <td>Suhms gate 20A, 0362 Oslo</td>\n",
       "      <td>ved Suhms gate</td>\n",
       "      <td>59.933350</td>\n",
       "      <td>10.719603</td>\n",
       "      <td>False</td>\n",
       "      <td>21</td>\n",
       "      <td>{'type': 'MultiPolygon', 'coordinates': [[[[10...</td>\n",
       "      <td>{'android': 'oslobysykkel://stations/5431', 'i...</td>\n",
       "    </tr>\n",
       "    <tr>\n",
       "      <th>1</th>\n",
       "      <td>5424</td>\n",
       "      <td>Makrellbekken T</td>\n",
       "      <td>Arnebråtveien 1</td>\n",
       "      <td>ved plattform retning Røa, i Arnebråtveien</td>\n",
       "      <td>59.941903</td>\n",
       "      <td>10.674101</td>\n",
       "      <td>False</td>\n",
       "      <td>18</td>\n",
       "      <td>{'type': 'MultiPolygon', 'coordinates': [[[[10...</td>\n",
       "      <td>{'android': 'oslobysykkel://stations/5424', 'i...</td>\n",
       "    </tr>\n",
       "    <tr>\n",
       "      <th>2</th>\n",
       "      <td>5220</td>\n",
       "      <td>Blindern vgs</td>\n",
       "      <td>Sognsveien</td>\n",
       "      <td>under sykkelbroen</td>\n",
       "      <td>59.949909</td>\n",
       "      <td>10.730185</td>\n",
       "      <td>False</td>\n",
       "      <td>20</td>\n",
       "      <td>{'type': 'MultiPolygon', 'coordinates': [[[[10...</td>\n",
       "      <td>{'android': 'oslobysykkel://stations/5220', 'i...</td>\n",
       "    </tr>\n",
       "    <tr>\n",
       "      <th>3</th>\n",
       "      <td>5217</td>\n",
       "      <td>Egertorget</td>\n",
       "      <td>Øvre Slottsgate 19</td>\n",
       "      <td>ved Max burger</td>\n",
       "      <td>59.912674</td>\n",
       "      <td>10.742025</td>\n",
       "      <td>False</td>\n",
       "      <td>30</td>\n",
       "      <td>{'type': 'MultiPolygon', 'coordinates': [[[[10...</td>\n",
       "      <td>{'android': 'oslobysykkel://stations/5217', 'i...</td>\n",
       "    </tr>\n",
       "    <tr>\n",
       "      <th>4</th>\n",
       "      <td>5113</td>\n",
       "      <td>Leirfallsgata</td>\n",
       "      <td>Markveien 58</td>\n",
       "      <td>ved Markveien</td>\n",
       "      <td>59.919115</td>\n",
       "      <td>10.757831</td>\n",
       "      <td>False</td>\n",
       "      <td>15</td>\n",
       "      <td>{'type': 'MultiPolygon', 'coordinates': [[[[10...</td>\n",
       "      <td>{'android': 'oslobysykkel://stations/5113', 'i...</td>\n",
       "    </tr>\n",
       "  </tbody>\n",
       "</table>\n",
       "</div>"
      ],
      "text/plain": [
       "  station_id             name                    address  \\\n",
       "0       5431              NRK  Suhms gate 20A, 0362 Oslo   \n",
       "1       5424  Makrellbekken T            Arnebråtveien 1   \n",
       "2       5220     Blindern vgs                 Sognsveien   \n",
       "3       5217       Egertorget         Øvre Slottsgate 19   \n",
       "4       5113    Leirfallsgata               Markveien 58   \n",
       "\n",
       "                                 cross_street        lat        lon  \\\n",
       "0                              ved Suhms gate  59.933350  10.719603   \n",
       "1  ved plattform retning Røa, i Arnebråtveien  59.941903  10.674101   \n",
       "2                           under sykkelbroen  59.949909  10.730185   \n",
       "3                              ved Max burger  59.912674  10.742025   \n",
       "4                               ved Markveien  59.919115  10.757831   \n",
       "\n",
       "   is_virtual_station  capacity  \\\n",
       "0               False        21   \n",
       "1               False        18   \n",
       "2               False        20   \n",
       "3               False        30   \n",
       "4               False        15   \n",
       "\n",
       "                                        station_area  \\\n",
       "0  {'type': 'MultiPolygon', 'coordinates': [[[[10...   \n",
       "1  {'type': 'MultiPolygon', 'coordinates': [[[[10...   \n",
       "2  {'type': 'MultiPolygon', 'coordinates': [[[[10...   \n",
       "3  {'type': 'MultiPolygon', 'coordinates': [[[[10...   \n",
       "4  {'type': 'MultiPolygon', 'coordinates': [[[[10...   \n",
       "\n",
       "                                         rental_uris  \n",
       "0  {'android': 'oslobysykkel://stations/5431', 'i...  \n",
       "1  {'android': 'oslobysykkel://stations/5424', 'i...  \n",
       "2  {'android': 'oslobysykkel://stations/5220', 'i...  \n",
       "3  {'android': 'oslobysykkel://stations/5217', 'i...  \n",
       "4  {'android': 'oslobysykkel://stations/5113', 'i...  "
      ]
     },
     "execution_count": 12,
     "metadata": {},
     "output_type": "execute_result"
    }
   ],
   "source": [
    "df_stations.head()\n"
   ]
  },
  {
   "cell_type": "code",
   "execution_count": 17,
   "id": "9c5a365b-6274-47e0-a88f-99254438cdf0",
   "metadata": {},
   "outputs": [],
   "source": [
    "df_stations = df_stations.drop(columns = [\"station_area\", \"rental_uris\"], axis = 1)\n"
   ]
  },
  {
   "cell_type": "code",
   "execution_count": 19,
   "id": "e127fe21-53e3-4a41-9b2a-0333dc907ea1",
   "metadata": {},
   "outputs": [
    {
     "name": "stdout",
     "output_type": "stream",
     "text": [
      "<class 'pandas.core.frame.DataFrame'>\n",
      "RangeIndex: 270 entries, 0 to 269\n",
      "Data columns (total 8 columns):\n",
      " #   Column              Non-Null Count  Dtype  \n",
      "---  ------              --------------  -----  \n",
      " 0   station_id          270 non-null    object \n",
      " 1   name                270 non-null    object \n",
      " 2   address             270 non-null    object \n",
      " 3   cross_street        270 non-null    object \n",
      " 4   lat                 270 non-null    float64\n",
      " 5   lon                 270 non-null    float64\n",
      " 6   is_virtual_station  270 non-null    bool   \n",
      " 7   capacity            270 non-null    int64  \n",
      "dtypes: bool(1), float64(2), int64(1), object(4)\n",
      "memory usage: 15.2+ KB\n"
     ]
    }
   ],
   "source": [
    "df_stations.info()"
   ]
  },
  {
   "cell_type": "code",
   "execution_count": 13,
   "id": "d87aa1c5-2729-43c2-9990-8aada6da7fb8",
   "metadata": {},
   "outputs": [
    {
     "name": "stdout",
     "output_type": "stream",
     "text": [
      "<class 'pandas.core.frame.DataFrame'>\n",
      "RangeIndex: 2 entries, 0 to 1\n",
      "Data columns (total 7 columns):\n",
      " #   Column           Non-Null Count  Dtype \n",
      "---  ------           --------------  ----- \n",
      " 0   plan_id          2 non-null      object\n",
      " 1   name             2 non-null      object\n",
      " 2   currency         2 non-null      object\n",
      " 3   price            2 non-null      int64 \n",
      " 4   description      2 non-null      object\n",
      " 5   is_taxable       2 non-null      bool  \n",
      " 6   per_min_pricing  2 non-null      object\n",
      "dtypes: bool(1), int64(1), object(5)\n",
      "memory usage: 230.0+ bytes\n"
     ]
    }
   ],
   "source": [
    "# df_pricing.info()"
   ]
  },
  {
   "cell_type": "code",
   "execution_count": 14,
   "id": "040b0cd9-8346-4d03-86a2-7c43a527adae",
   "metadata": {},
   "outputs": [
    {
     "data": {
      "text/html": [
       "<div>\n",
       "<style scoped>\n",
       "    .dataframe tbody tr th:only-of-type {\n",
       "        vertical-align: middle;\n",
       "    }\n",
       "\n",
       "    .dataframe tbody tr th {\n",
       "        vertical-align: top;\n",
       "    }\n",
       "\n",
       "    .dataframe thead th {\n",
       "        text-align: right;\n",
       "    }\n",
       "</style>\n",
       "<table border=\"1\" class=\"dataframe\">\n",
       "  <thead>\n",
       "    <tr style=\"text-align: right;\">\n",
       "      <th></th>\n",
       "      <th>plan_id</th>\n",
       "      <th>name</th>\n",
       "      <th>currency</th>\n",
       "      <th>price</th>\n",
       "      <th>description</th>\n",
       "      <th>is_taxable</th>\n",
       "      <th>per_min_pricing</th>\n",
       "    </tr>\n",
       "  </thead>\n",
       "  <tbody>\n",
       "    <tr>\n",
       "      <th>0</th>\n",
       "      <td>bike</td>\n",
       "      <td>Traditional bike charge</td>\n",
       "      <td>NOK</td>\n",
       "      <td>3</td>\n",
       "      <td>Cheapest possible fare with the system for a s...</td>\n",
       "      <td>False</td>\n",
       "      <td>[{'start': 0, 'rate': 10, 'end': 0, 'interval'...</td>\n",
       "    </tr>\n",
       "    <tr>\n",
       "      <th>1</th>\n",
       "      <td>ebike</td>\n",
       "      <td>Ebike charge</td>\n",
       "      <td>NOK</td>\n",
       "      <td>3</td>\n",
       "      <td>Cheapest possible fare with the system for a s...</td>\n",
       "      <td>False</td>\n",
       "      <td>[{'start': 0, 'rate': 10, 'end': 0, 'interval'...</td>\n",
       "    </tr>\n",
       "  </tbody>\n",
       "</table>\n",
       "</div>"
      ],
      "text/plain": [
       "  plan_id                     name currency  price  \\\n",
       "0    bike  Traditional bike charge      NOK      3   \n",
       "1   ebike             Ebike charge      NOK      3   \n",
       "\n",
       "                                         description  is_taxable  \\\n",
       "0  Cheapest possible fare with the system for a s...       False   \n",
       "1  Cheapest possible fare with the system for a s...       False   \n",
       "\n",
       "                                     per_min_pricing  \n",
       "0  [{'start': 0, 'rate': 10, 'end': 0, 'interval'...  \n",
       "1  [{'start': 0, 'rate': 10, 'end': 0, 'interval'...  "
      ]
     },
     "execution_count": 14,
     "metadata": {},
     "output_type": "execute_result"
    }
   ],
   "source": []
  },
  {
   "cell_type": "markdown",
   "id": "bcb2a2d5-518e-4c81-8eb4-000106931e0e",
   "metadata": {},
   "source": [
    "# Link zum ERD\n",
    "https://lucid.app/lucidchart/01f65829-ef67-49e9-9f5f-7e1fabab3e9b/edit?viewport_loc=-265%2C145%2C1975%2C1125%2C0_0&invitationId=inv_6ef8221a-3aaa-4b9b-a4d8-52262626b183\n",
    "\n",
    "system_info, pricing und auto habe ich nicht beachtet. Diese Daten empfand ich als nicht wichtig, bzw. nicht hiilfreich. pricing hatte zwei default Werte. Auf der Webseite gibt es aber auch Abo-Pläne, die hier nicht beachtet wurden "
   ]
  }
 ],
 "metadata": {
  "kernelspec": {
   "display_name": "Python 3 (ipykernel)",
   "language": "python",
   "name": "python3"
  },
  "language_info": {
   "codemirror_mode": {
    "name": "ipython",
    "version": 3
   },
   "file_extension": ".py",
   "mimetype": "text/x-python",
   "name": "python",
   "nbconvert_exporter": "python",
   "pygments_lexer": "ipython3",
   "version": "3.13.0"
  }
 },
 "nbformat": 4,
 "nbformat_minor": 5
}
