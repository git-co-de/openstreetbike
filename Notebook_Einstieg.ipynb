{
 "cells": [
  {
   "cell_type": "code",
   "execution_count": 2,
   "id": "7d19a5e5-c5af-4257-b52a-2714ef02dbd4",
   "metadata": {},
   "outputs": [],
   "source": [
    "import requests\n",
    "import time\n",
    "import pandas as pd\n",
    "import numpy as np\n",
    "import sqlalchemy"
   ]
  },
  {
   "cell_type": "code",
   "execution_count": 3,
   "id": "663bd636-ba53-4d55-9441-ff392510c7c1",
   "metadata": {},
   "outputs": [],
   "source": [
    "# client-identifier ist Voraussetzung für die Nutzung der Daten\n",
    "client_header = \"testuser-exercise\"\n",
    "\n",
    "headers = {\n",
    "    \"Client-Identifier\": client_header\n",
    "}\n",
    "\n",
    "# BASE URL\n",
    "URL = \"https://gbfs.urbansharing.com/oslobysykkel.no/\"\n",
    "\n",
    "# endpoints\n",
    "# Auto-discovery file that links to all of the other files published by the system.\n",
    "auto = \"gbfs.json\"\n",
    "\n",
    "# Machine readable basic information about Oslo City Bike\n",
    "system = \"system_information.json\"\n",
    "\n",
    "# Information about all stations, including geolocation, addresses and descriptions\n",
    "stations = \"station_information.json\"\n",
    "\n",
    "# Bike and dock availability\n",
    "availability = \"station_status.json\"\n",
    "\n",
    "\n"
   ]
  },
  {
   "cell_type": "code",
   "execution_count": 4,
   "id": "e4061b15-281e-4a0b-bc25-ad4e409ab6f2",
   "metadata": {},
   "outputs": [
    {
     "name": "stdout",
     "output_type": "stream",
     "text": [
      "Systemname: {'nb': {'feeds': [{'name': 'system_information', 'url': 'https://gbfs.urbansharing.com/oslobysykkel.no/system_information.json'}, {'name': 'vehicle_types', 'url': 'https://gbfs.urbansharing.com/oslobysykkel.no/vehicle_types.json'}, {'name': 'system_pricing_plans', 'url': 'https://gbfs.urbansharing.com/oslobysykkel.no/system_pricing_plans.json'}, {'name': 'station_information', 'url': 'https://gbfs.urbansharing.com/oslobysykkel.no/station_information.json'}, {'name': 'station_status', 'url': 'https://gbfs.urbansharing.com/oslobysykkel.no/station_status.json'}]}}\n"
     ]
    }
   ],
   "source": [
    "# Überblick verschaffen\n",
    "response = requests.get(URL + auto, headers = headers)\n",
    "\n",
    "\n",
    "if response.status_code == 200:\n",
    "    data = response.json()\n",
    "    print(\"Systemname:\", data[\"data\"])\n",
    "\n",
    "else: \n",
    "    print(\"Fehler beim abrufen der Daten:\", response.status_code)"
   ]
  },
  {
   "cell_type": "code",
   "execution_count": 10,
   "id": "910b2e18-8c98-4075-8abe-8ce465e415b0",
   "metadata": {},
   "outputs": [],
   "source": [
    "station_info = requests.get(URL + stations, headers = headers).json()\n",
    "station_status = requests.get(URL + availability, headers = headers).json()\n",
    "\n",
    "\n",
    "\n",
    "df_info = pd.DataFrame(station_info[\"data\"][\"stations\"])\n",
    "df_status = pd.DataFrame(station_status[\"data\"][\"stations\"])"
   ]
  },
  {
   "cell_type": "code",
   "execution_count": 17,
   "id": "63efc7bc-3180-460b-bf7d-6549edffc3d7",
   "metadata": {},
   "outputs": [
    {
     "name": "stdout",
     "output_type": "stream",
     "text": [
      "<class 'pandas.core.frame.DataFrame'>\n",
      "RangeIndex: 270 entries, 0 to 269\n",
      "Data columns (total 9 columns):\n",
      " #   Column                   Non-Null Count  Dtype \n",
      "---  ------                   --------------  ----- \n",
      " 0   station_id               270 non-null    object\n",
      " 1   is_installed             270 non-null    bool  \n",
      " 2   is_renting               270 non-null    bool  \n",
      " 3   is_returning             270 non-null    bool  \n",
      " 4   last_reported            270 non-null    int64 \n",
      " 5   num_vehicles_available   270 non-null    int64 \n",
      " 6   num_bikes_available      270 non-null    int64 \n",
      " 7   num_docks_available      270 non-null    int64 \n",
      " 8   vehicle_types_available  270 non-null    object\n",
      "dtypes: bool(3), int64(4), object(2)\n",
      "memory usage: 13.6+ KB\n"
     ]
    }
   ],
   "source": [
    "df_status.info()"
   ]
  },
  {
   "cell_type": "code",
   "execution_count": 18,
   "id": "6d94cdad-da98-43d6-95a8-26ef2c389cbd",
   "metadata": {},
   "outputs": [
    {
     "name": "stdout",
     "output_type": "stream",
     "text": [
      "<class 'pandas.core.frame.DataFrame'>\n",
      "RangeIndex: 270 entries, 0 to 269\n",
      "Data columns (total 10 columns):\n",
      " #   Column              Non-Null Count  Dtype  \n",
      "---  ------              --------------  -----  \n",
      " 0   station_id          270 non-null    object \n",
      " 1   name                270 non-null    object \n",
      " 2   address             270 non-null    object \n",
      " 3   cross_street        270 non-null    object \n",
      " 4   lat                 270 non-null    float64\n",
      " 5   lon                 270 non-null    float64\n",
      " 6   is_virtual_station  270 non-null    bool   \n",
      " 7   capacity            270 non-null    int64  \n",
      " 8   station_area        270 non-null    object \n",
      " 9   rental_uris         270 non-null    object \n",
      "dtypes: bool(1), float64(2), int64(1), object(6)\n",
      "memory usage: 19.4+ KB\n"
     ]
    }
   ],
   "source": [
    "df_info.info()"
   ]
  }
 ],
 "metadata": {
  "kernelspec": {
   "display_name": "Python 3 (ipykernel)",
   "language": "python",
   "name": "python3"
  },
  "language_info": {
   "codemirror_mode": {
    "name": "ipython",
    "version": 3
   },
   "file_extension": ".py",
   "mimetype": "text/x-python",
   "name": "python",
   "nbconvert_exporter": "python",
   "pygments_lexer": "ipython3",
   "version": "3.13.0"
  }
 },
 "nbformat": 4,
 "nbformat_minor": 5
}
